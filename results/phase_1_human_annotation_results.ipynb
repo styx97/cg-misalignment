{
 "cells": [
  {
   "cell_type": "code",
   "execution_count": 6,
   "metadata": {},
   "outputs": [],
   "source": [
    "import pandas as pd\n",
    "\n",
    "import sys\n",
    "sys.path.append(\"../\")\n",
    "\n",
    "%load_ext autoreload\n",
    "%autoreload 2\n",
    "\n",
    "from src.annotation_loader import Phase1Loader\n",
    "from tqdm import tqdm\n"
   ]
  },
  {
   "cell_type": "code",
   "execution_count": 7,
   "metadata": {},
   "outputs": [],
   "source": [
    "from glob import glob \n",
    "\n",
    "files = glob(\"../data/annotation_output/annotations_metadata/*.csv\")"
   ]
  },
  {
   "cell_type": "markdown",
   "metadata": {},
   "source": [
    "#### Load all the necessary annotation data and metadata"
   ]
  },
  {
   "cell_type": "code",
   "execution_count": 8,
   "metadata": {},
   "outputs": [],
   "source": [
    "def concatenate_metadata(file_list):\n",
    "\t\"\"\"\n",
    "\tConcatenate multiple Excel files into a single DataFrame.\n",
    "\t\n",
    "\tParameters:\n",
    "\t- file_list: List of strings where each string is a path to an Excel file.\n",
    "\t\n",
    "\tReturns:\n",
    "\t- A Pandas DataFrame containing the concatenated data from all provided Excel files.\n",
    "\t\"\"\"\n",
    "\t# List to store individual DataFrames\n",
    "\tdataframes = []\n",
    "\n",
    "\t# Iterate over the list of files\n",
    "\tfor file_path in file_list:\n",
    "\t\t# Load each Excel file into a DataFrame\n",
    "\t\tdf = pd.read_csv(file_path, dtype={\"Conversation ID\": str})\n",
    "\t\t# Append the DataFrame to the list\n",
    "\t\tdataframes.append(df)\n",
    "\n",
    "\t# Concatenate all DataFrames in the list\n",
    "\tconcatenated_df = pd.concat(dataframes, ignore_index=True)\n",
    "\t\n",
    "\treturn concatenated_df"
   ]
  },
  {
   "cell_type": "code",
   "execution_count": 9,
   "metadata": {},
   "outputs": [],
   "source": [
    "df = concatenate_metadata(files)"
   ]
  },
  {
   "cell_type": "code",
   "execution_count": 10,
   "metadata": {},
   "outputs": [
    {
     "data": {
      "text/html": [
       "<div>\n",
       "<style scoped>\n",
       "    .dataframe tbody tr th:only-of-type {\n",
       "        vertical-align: middle;\n",
       "    }\n",
       "\n",
       "    .dataframe tbody tr th {\n",
       "        vertical-align: top;\n",
       "    }\n",
       "\n",
       "    .dataframe thead th {\n",
       "        text-align: right;\n",
       "    }\n",
       "</style>\n",
       "<table border=\"1\" class=\"dataframe\">\n",
       "  <thead>\n",
       "    <tr style=\"text-align: right;\">\n",
       "      <th></th>\n",
       "      <th>Conversation ID</th>\n",
       "      <th>Time Taken</th>\n",
       "      <th>Conversational Friction (Y/N)</th>\n",
       "      <th>Conversational Success</th>\n",
       "      <th>Ending</th>\n",
       "      <th>Type</th>\n",
       "      <th>Unnamed: 6</th>\n",
       "      <th>Comments</th>\n",
       "    </tr>\n",
       "  </thead>\n",
       "  <tbody>\n",
       "    <tr>\n",
       "      <th>0</th>\n",
       "      <td>93.1</td>\n",
       "      <td>18 minutes</td>\n",
       "      <td>Yes</td>\n",
       "      <td>Some Progress</td>\n",
       "      <td>Conversation had a natural End</td>\n",
       "      <td>Type 1</td>\n",
       "      <td>NaN</td>\n",
       "      <td>NaN</td>\n",
       "    </tr>\n",
       "    <tr>\n",
       "      <th>1</th>\n",
       "      <td>77.3</td>\n",
       "      <td>16 minutes</td>\n",
       "      <td>Yes</td>\n",
       "      <td>Success</td>\n",
       "      <td>Conversation had a natural End</td>\n",
       "      <td>Type 1</td>\n",
       "      <td>NaN</td>\n",
       "      <td>NaN</td>\n",
       "    </tr>\n",
       "    <tr>\n",
       "      <th>2</th>\n",
       "      <td>75.1</td>\n",
       "      <td>17 minutes</td>\n",
       "      <td>No</td>\n",
       "      <td>Some Progress</td>\n",
       "      <td>Conversation Ended Abruptly</td>\n",
       "      <td>Type 1</td>\n",
       "      <td>NaN</td>\n",
       "      <td>NaN</td>\n",
       "    </tr>\n",
       "    <tr>\n",
       "      <th>3</th>\n",
       "      <td>74.1</td>\n",
       "      <td>9 minutes</td>\n",
       "      <td>No</td>\n",
       "      <td>Some Progress</td>\n",
       "      <td>Conversation had a natural End</td>\n",
       "      <td>Type 1</td>\n",
       "      <td>NaN</td>\n",
       "      <td>NaN</td>\n",
       "    </tr>\n",
       "    <tr>\n",
       "      <th>4</th>\n",
       "      <td>67.1</td>\n",
       "      <td>8 minutes</td>\n",
       "      <td>Yes</td>\n",
       "      <td>Some Progress</td>\n",
       "      <td>Conversation had a natural End</td>\n",
       "      <td>Type 1</td>\n",
       "      <td>NaN</td>\n",
       "      <td>NaN</td>\n",
       "    </tr>\n",
       "  </tbody>\n",
       "</table>\n",
       "</div>"
      ],
      "text/plain": [
       "  Conversation ID  Time Taken Conversational Friction (Y/N)   \\\n",
       "0            93.1  18 minutes                            Yes   \n",
       "1            77.3  16 minutes                            Yes   \n",
       "2            75.1  17 minutes                             No   \n",
       "3            74.1   9 minutes                             No   \n",
       "4            67.1   8 minutes                            Yes   \n",
       "\n",
       "  Conversational Success                           Ending     Type Unnamed: 6  \\\n",
       "0           Some Progress  Conversation had a natural End  Type 1         NaN   \n",
       "1                 Success  Conversation had a natural End  Type 1         NaN   \n",
       "2           Some Progress     Conversation Ended Abruptly  Type 1         NaN   \n",
       "3           Some Progress  Conversation had a natural End  Type 1         NaN   \n",
       "4           Some Progress  Conversation had a natural End  Type 1         NaN   \n",
       "\n",
       "  Comments  \n",
       "0      NaN  \n",
       "1      NaN  \n",
       "2      NaN  \n",
       "3      NaN  \n",
       "4      NaN  "
      ]
     },
     "execution_count": 10,
     "metadata": {},
     "output_type": "execute_result"
    }
   ],
   "source": [
    "df.head()"
   ]
  },
  {
   "cell_type": "markdown",
   "metadata": {},
   "source": [
    "### Clean the annotations for analysis"
   ]
  },
  {
   "cell_type": "code",
   "execution_count": 11,
   "metadata": {},
   "outputs": [],
   "source": [
    "df = df.dropna(how=\"all\")\n",
    "df['conv_length'] = df['Conversation ID'].astype(str).str.split('.').str[0]\n",
    "# make conv_length an int type after removing rows where the value is 'nan' \n",
    "df = df[df['conv_length'] != 'nan']\n",
    "df['conv_length'] = df['conv_length'].astype(int)\n",
    "df['Conversation ID'] = df['Conversation ID'].astype(str)\n",
    "\n",
    "# rename columns for easier access\n",
    "rename_dict = {\n",
    "\t\"Conversation ID\": \"conv_id\",\n",
    "\t'Conversational Friction (Y/N) ': \"friction\", \n",
    "\t'Conversational Success ': \"success\",\n",
    "}\n",
    "\n",
    "df = df.rename(columns=rename_dict)\n",
    "\n",
    "# convert the column \"Conversational Friction (Y/N)\" to a boolean type for analysis\n",
    "df['friction'] = df['friction'].map({\"Yes\": True,\n",
    "\t\t\t\t\t\t\t\t\t\"No\": False})\n",
    "\n",
    "df['success'] = df['success'].map({\"Success\": 3, \"Some Progress\": 2, \"No Progress\": 1})\n"
   ]
  },
  {
   "cell_type": "code",
   "execution_count": 73,
   "metadata": {},
   "outputs": [
    {
     "data": {
      "text/html": [
       "<div>\n",
       "<style scoped>\n",
       "    .dataframe tbody tr th:only-of-type {\n",
       "        vertical-align: middle;\n",
       "    }\n",
       "\n",
       "    .dataframe tbody tr th {\n",
       "        vertical-align: top;\n",
       "    }\n",
       "\n",
       "    .dataframe thead th {\n",
       "        text-align: right;\n",
       "    }\n",
       "</style>\n",
       "<table border=\"1\" class=\"dataframe\">\n",
       "  <thead>\n",
       "    <tr style=\"text-align: right;\">\n",
       "      <th></th>\n",
       "      <th>conv_id</th>\n",
       "      <th>Time Taken</th>\n",
       "      <th>friction</th>\n",
       "      <th>success</th>\n",
       "      <th>Ending</th>\n",
       "      <th>Type</th>\n",
       "      <th>Unnamed: 6</th>\n",
       "      <th>Comments</th>\n",
       "      <th>conv_length</th>\n",
       "    </tr>\n",
       "  </thead>\n",
       "  <tbody>\n",
       "    <tr>\n",
       "      <th>0</th>\n",
       "      <td>93.1</td>\n",
       "      <td>18 minutes</td>\n",
       "      <td>True</td>\n",
       "      <td>2</td>\n",
       "      <td>Conversation had a natural End</td>\n",
       "      <td>Type 1</td>\n",
       "      <td>NaN</td>\n",
       "      <td>NaN</td>\n",
       "      <td>93</td>\n",
       "    </tr>\n",
       "    <tr>\n",
       "      <th>1</th>\n",
       "      <td>77.3</td>\n",
       "      <td>16 minutes</td>\n",
       "      <td>True</td>\n",
       "      <td>3</td>\n",
       "      <td>Conversation had a natural End</td>\n",
       "      <td>Type 1</td>\n",
       "      <td>NaN</td>\n",
       "      <td>NaN</td>\n",
       "      <td>77</td>\n",
       "    </tr>\n",
       "    <tr>\n",
       "      <th>2</th>\n",
       "      <td>75.1</td>\n",
       "      <td>17 minutes</td>\n",
       "      <td>False</td>\n",
       "      <td>2</td>\n",
       "      <td>Conversation Ended Abruptly</td>\n",
       "      <td>Type 1</td>\n",
       "      <td>NaN</td>\n",
       "      <td>NaN</td>\n",
       "      <td>75</td>\n",
       "    </tr>\n",
       "    <tr>\n",
       "      <th>3</th>\n",
       "      <td>74.1</td>\n",
       "      <td>9 minutes</td>\n",
       "      <td>False</td>\n",
       "      <td>2</td>\n",
       "      <td>Conversation had a natural End</td>\n",
       "      <td>Type 1</td>\n",
       "      <td>NaN</td>\n",
       "      <td>NaN</td>\n",
       "      <td>74</td>\n",
       "    </tr>\n",
       "    <tr>\n",
       "      <th>4</th>\n",
       "      <td>67.1</td>\n",
       "      <td>8 minutes</td>\n",
       "      <td>True</td>\n",
       "      <td>2</td>\n",
       "      <td>Conversation had a natural End</td>\n",
       "      <td>Type 1</td>\n",
       "      <td>NaN</td>\n",
       "      <td>NaN</td>\n",
       "      <td>67</td>\n",
       "    </tr>\n",
       "  </tbody>\n",
       "</table>\n",
       "</div>"
      ],
      "text/plain": [
       "  conv_id  Time Taken  friction  success                          Ending  \\\n",
       "0    93.1  18 minutes      True        2  Conversation had a natural End   \n",
       "1    77.3  16 minutes      True        3  Conversation had a natural End   \n",
       "2    75.1  17 minutes     False        2     Conversation Ended Abruptly   \n",
       "3    74.1   9 minutes     False        2  Conversation had a natural End   \n",
       "4    67.1   8 minutes      True        2  Conversation had a natural End   \n",
       "\n",
       "      Type Unnamed: 6 Comments  conv_length  \n",
       "0  Type 1         NaN      NaN           93  \n",
       "1  Type 1         NaN      NaN           77  \n",
       "2  Type 1         NaN      NaN           75  \n",
       "3  Type 1         NaN      NaN           74  \n",
       "4  Type 1         NaN      NaN           67  "
      ]
     },
     "execution_count": 73,
     "metadata": {},
     "output_type": "execute_result"
    }
   ],
   "source": [
    "df.head()"
   ]
  },
  {
   "cell_type": "code",
   "execution_count": 69,
   "metadata": {},
   "outputs": [
    {
     "data": {
      "text/plain": [
       "(200, 9)"
      ]
     },
     "execution_count": 69,
     "metadata": {},
     "output_type": "execute_result"
    }
   ],
   "source": [
    "df.shape"
   ]
  },
  {
   "cell_type": "code",
   "execution_count": 55,
   "metadata": {},
   "outputs": [
    {
     "data": {
      "text/plain": [
       "friction\n",
       "True     0.545\n",
       "False    0.455\n",
       "Name: proportion, dtype: float64"
      ]
     },
     "execution_count": 55,
     "metadata": {},
     "output_type": "execute_result"
    }
   ],
   "source": [
    "df.friction.value_counts(normalize=True)"
   ]
  },
  {
   "cell_type": "code",
   "execution_count": 70,
   "metadata": {},
   "outputs": [
    {
     "data": {
      "text/plain": [
       "success\n",
       "2    0.445\n",
       "3    0.295\n",
       "1    0.260\n",
       "Name: proportion, dtype: float64"
      ]
     },
     "execution_count": 70,
     "metadata": {},
     "output_type": "execute_result"
    }
   ],
   "source": [
    "df['success'].value_counts(normalize=True)"
   ]
  },
  {
   "cell_type": "code",
   "execution_count": 13,
   "metadata": {},
   "outputs": [
    {
     "name": "stderr",
     "output_type": "stream",
     "text": [
      "200it [00:15, 13.00it/s]\n"
     ]
    }
   ],
   "source": [
    "# define an empty column for the number of friction points\n",
    "loader = Phase1Loader()\n",
    "\n",
    "num_friction = []\n",
    "friction_present = 0 \n",
    "friction_lengths = []\n",
    "non_friction_lengths = []\n",
    "\n",
    "for i, row in tqdm(df.iterrows()):\n",
    "\t\n",
    "\tconv_id = row['conv_id']\n",
    "\tnum_frictions = len(loader.get_annotation_data(conv_id)['friction_turns']) \n",
    "\t\n",
    "\tconv_length = int(float(conv_id))\n",
    "\tif num_frictions > 0:\n",
    "\t\tfriction_present += 1\n",
    "\t\tfriction_lengths.append(conv_length)\n",
    "\telse:\n",
    "\t\tnon_friction_lengths.append(conv_length)\n",
    "\n",
    "\n",
    "\tnum_friction.append(num_frictions)\n",
    "\t"
   ]
  },
  {
   "cell_type": "markdown",
   "metadata": {},
   "source": [
    "Median length of conversations with and without friction. Overall mean = 40.56, median= 33"
   ]
  },
  {
   "cell_type": "code",
   "execution_count": 14,
   "metadata": {},
   "outputs": [
    {
     "data": {
      "text/plain": [
       "(48.74311926605505, 55.0)"
      ]
     },
     "execution_count": 14,
     "metadata": {},
     "output_type": "execute_result"
    }
   ],
   "source": [
    "import numpy as np\n",
    "np.mean(friction_lengths), np.median(friction_lengths)"
   ]
  },
  {
   "cell_type": "code",
   "execution_count": 15,
   "metadata": {},
   "outputs": [
    {
     "data": {
      "text/plain": [
       "(28.978021978021978, 22.0)"
      ]
     },
     "execution_count": 15,
     "metadata": {},
     "output_type": "execute_result"
    }
   ],
   "source": [
    "np.mean(non_friction_lengths), np.median(non_friction_lengths)"
   ]
  },
  {
   "cell_type": "code",
   "execution_count": 16,
   "metadata": {},
   "outputs": [
    {
     "data": {
      "text/plain": [
       "54.50000000000001"
      ]
     },
     "execution_count": 16,
     "metadata": {},
     "output_type": "execute_result"
    }
   ],
   "source": [
    "friction_present / 200 * 100 "
   ]
  },
  {
   "cell_type": "code",
   "execution_count": 17,
   "metadata": {},
   "outputs": [],
   "source": [
    "df['num_friction'] = num_friction"
   ]
  },
  {
   "cell_type": "code",
   "execution_count": 18,
   "metadata": {},
   "outputs": [
    {
     "data": {
      "text/plain": [
       "200"
      ]
     },
     "execution_count": 18,
     "metadata": {},
     "output_type": "execute_result"
    }
   ],
   "source": [
    "len(num_friction)"
   ]
  },
  {
   "cell_type": "code",
   "execution_count": 19,
   "metadata": {},
   "outputs": [
    {
     "data": {
      "text/html": [
       "<div>\n",
       "<style scoped>\n",
       "    .dataframe tbody tr th:only-of-type {\n",
       "        vertical-align: middle;\n",
       "    }\n",
       "\n",
       "    .dataframe tbody tr th {\n",
       "        vertical-align: top;\n",
       "    }\n",
       "\n",
       "    .dataframe thead th {\n",
       "        text-align: right;\n",
       "    }\n",
       "</style>\n",
       "<table border=\"1\" class=\"dataframe\">\n",
       "  <thead>\n",
       "    <tr style=\"text-align: right;\">\n",
       "      <th></th>\n",
       "      <th>conv_id</th>\n",
       "      <th>Time Taken</th>\n",
       "      <th>friction</th>\n",
       "      <th>success</th>\n",
       "      <th>Ending</th>\n",
       "      <th>Type</th>\n",
       "      <th>Unnamed: 6</th>\n",
       "      <th>Comments</th>\n",
       "      <th>conv_length</th>\n",
       "      <th>num_friction</th>\n",
       "    </tr>\n",
       "  </thead>\n",
       "  <tbody>\n",
       "    <tr>\n",
       "      <th>0</th>\n",
       "      <td>93.1</td>\n",
       "      <td>18 minutes</td>\n",
       "      <td>True</td>\n",
       "      <td>2</td>\n",
       "      <td>Conversation had a natural End</td>\n",
       "      <td>Type 1</td>\n",
       "      <td>NaN</td>\n",
       "      <td>NaN</td>\n",
       "      <td>93</td>\n",
       "      <td>3</td>\n",
       "    </tr>\n",
       "    <tr>\n",
       "      <th>1</th>\n",
       "      <td>77.3</td>\n",
       "      <td>16 minutes</td>\n",
       "      <td>True</td>\n",
       "      <td>3</td>\n",
       "      <td>Conversation had a natural End</td>\n",
       "      <td>Type 1</td>\n",
       "      <td>NaN</td>\n",
       "      <td>NaN</td>\n",
       "      <td>77</td>\n",
       "      <td>1</td>\n",
       "    </tr>\n",
       "    <tr>\n",
       "      <th>2</th>\n",
       "      <td>75.1</td>\n",
       "      <td>17 minutes</td>\n",
       "      <td>False</td>\n",
       "      <td>2</td>\n",
       "      <td>Conversation Ended Abruptly</td>\n",
       "      <td>Type 1</td>\n",
       "      <td>NaN</td>\n",
       "      <td>NaN</td>\n",
       "      <td>75</td>\n",
       "      <td>0</td>\n",
       "    </tr>\n",
       "    <tr>\n",
       "      <th>3</th>\n",
       "      <td>74.1</td>\n",
       "      <td>9 minutes</td>\n",
       "      <td>False</td>\n",
       "      <td>2</td>\n",
       "      <td>Conversation had a natural End</td>\n",
       "      <td>Type 1</td>\n",
       "      <td>NaN</td>\n",
       "      <td>NaN</td>\n",
       "      <td>74</td>\n",
       "      <td>0</td>\n",
       "    </tr>\n",
       "    <tr>\n",
       "      <th>4</th>\n",
       "      <td>67.1</td>\n",
       "      <td>8 minutes</td>\n",
       "      <td>True</td>\n",
       "      <td>2</td>\n",
       "      <td>Conversation had a natural End</td>\n",
       "      <td>Type 1</td>\n",
       "      <td>NaN</td>\n",
       "      <td>NaN</td>\n",
       "      <td>67</td>\n",
       "      <td>1</td>\n",
       "    </tr>\n",
       "  </tbody>\n",
       "</table>\n",
       "</div>"
      ],
      "text/plain": [
       "  conv_id  Time Taken  friction  success                          Ending  \\\n",
       "0    93.1  18 minutes      True        2  Conversation had a natural End   \n",
       "1    77.3  16 minutes      True        3  Conversation had a natural End   \n",
       "2    75.1  17 minutes     False        2     Conversation Ended Abruptly   \n",
       "3    74.1   9 minutes     False        2  Conversation had a natural End   \n",
       "4    67.1   8 minutes      True        2  Conversation had a natural End   \n",
       "\n",
       "      Type Unnamed: 6 Comments  conv_length  num_friction  \n",
       "0  Type 1         NaN      NaN           93             3  \n",
       "1  Type 1         NaN      NaN           77             1  \n",
       "2  Type 1         NaN      NaN           75             0  \n",
       "3  Type 1         NaN      NaN           74             0  \n",
       "4  Type 1         NaN      NaN           67             1  "
      ]
     },
     "execution_count": 19,
     "metadata": {},
     "output_type": "execute_result"
    }
   ],
   "source": [
    "df.head()"
   ]
  },
  {
   "cell_type": "markdown",
   "metadata": {},
   "source": [
    "### Other Analyses for Section 4.1 below"
   ]
  },
  {
   "cell_type": "code",
   "execution_count": 32,
   "metadata": {},
   "outputs": [
    {
     "data": {
      "text/plain": [
       "success\n",
       "1    1.403846\n",
       "2    1.134831\n",
       "3    1.084746\n",
       "Name: num_friction, dtype: float64"
      ]
     },
     "execution_count": 32,
     "metadata": {},
     "output_type": "execute_result"
    }
   ],
   "source": [
    "df.groupby('success')['num_friction'].mean()"
   ]
  },
  {
   "cell_type": "code",
   "execution_count": 33,
   "metadata": {},
   "outputs": [
    {
     "data": {
      "text/plain": [
       "success  num_friction\n",
       "1        0               0.423077\n",
       "         1               0.230769\n",
       "         2               0.153846\n",
       "         3               0.096154\n",
       "         4               0.038462\n",
       "         11              0.019231\n",
       "         6               0.019231\n",
       "         5               0.019231\n",
       "2        0               0.449438\n",
       "         1               0.235955\n",
       "         2               0.146067\n",
       "         3               0.112360\n",
       "         4               0.033708\n",
       "         5               0.011236\n",
       "         7               0.011236\n",
       "3        0               0.491525\n",
       "         1               0.271186\n",
       "         2               0.101695\n",
       "         5               0.050847\n",
       "         3               0.033898\n",
       "         4               0.033898\n",
       "         7               0.016949\n",
       "Name: proportion, dtype: float64"
      ]
     },
     "execution_count": 33,
     "metadata": {},
     "output_type": "execute_result"
    }
   ],
   "source": [
    "df.groupby('success')['num_friction'].value_counts(normalize=True)"
   ]
  },
  {
   "cell_type": "code",
   "execution_count": 34,
   "metadata": {},
   "outputs": [
    {
     "data": {
      "text/plain": [
       "success\n",
       "1    2.433333\n",
       "2    2.061224\n",
       "3    2.133333\n",
       "Name: num_friction, dtype: float64"
      ]
     },
     "execution_count": 34,
     "metadata": {},
     "output_type": "execute_result"
    }
   ],
   "source": [
    "df_friction = df[df['num_friction'] > 0]\n",
    "\n",
    "df_friction.groupby('success')['num_friction'].mean()"
   ]
  },
  {
   "cell_type": "code",
   "execution_count": 35,
   "metadata": {},
   "outputs": [
    {
     "data": {
      "text/plain": [
       "(109, 10)"
      ]
     },
     "execution_count": 35,
     "metadata": {},
     "output_type": "execute_result"
    }
   ],
   "source": [
    "df_friction.shape"
   ]
  },
  {
   "cell_type": "code",
   "execution_count": 36,
   "metadata": {},
   "outputs": [
    {
     "data": {
      "text/html": [
       "<div>\n",
       "<style scoped>\n",
       "    .dataframe tbody tr th:only-of-type {\n",
       "        vertical-align: middle;\n",
       "    }\n",
       "\n",
       "    .dataframe tbody tr th {\n",
       "        vertical-align: top;\n",
       "    }\n",
       "\n",
       "    .dataframe thead th {\n",
       "        text-align: right;\n",
       "    }\n",
       "</style>\n",
       "<table border=\"1\" class=\"dataframe\">\n",
       "  <thead>\n",
       "    <tr style=\"text-align: right;\">\n",
       "      <th></th>\n",
       "      <th>mean</th>\n",
       "      <th>std</th>\n",
       "    </tr>\n",
       "    <tr>\n",
       "      <th>success</th>\n",
       "      <th></th>\n",
       "      <th></th>\n",
       "    </tr>\n",
       "  </thead>\n",
       "  <tbody>\n",
       "    <tr>\n",
       "      <th>1</th>\n",
       "      <td>31.903846</td>\n",
       "      <td>24.995890</td>\n",
       "    </tr>\n",
       "    <tr>\n",
       "      <th>2</th>\n",
       "      <td>43.865169</td>\n",
       "      <td>25.736511</td>\n",
       "    </tr>\n",
       "    <tr>\n",
       "      <th>3</th>\n",
       "      <td>40.457627</td>\n",
       "      <td>28.841016</td>\n",
       "    </tr>\n",
       "  </tbody>\n",
       "</table>\n",
       "</div>"
      ],
      "text/plain": [
       "              mean        std\n",
       "success                      \n",
       "1        31.903846  24.995890\n",
       "2        43.865169  25.736511\n",
       "3        40.457627  28.841016"
      ]
     },
     "execution_count": 36,
     "metadata": {},
     "output_type": "execute_result"
    }
   ],
   "source": [
    "df.groupby('success')['conv_length'].agg(['mean', 'std'])"
   ]
  },
  {
   "cell_type": "code",
   "execution_count": 37,
   "metadata": {},
   "outputs": [
    {
     "data": {
      "text/plain": [
       "success  friction\n",
       "1        True        30\n",
       "         False       22\n",
       "2        True        49\n",
       "         False       40\n",
       "3        True        30\n",
       "         False       29\n",
       "Name: count, dtype: int64"
      ]
     },
     "execution_count": 37,
     "metadata": {},
     "output_type": "execute_result"
    }
   ],
   "source": [
    "# find correlation between the columns success and friction \n",
    "# find the distribution of friction for each value of success \n",
    "df.groupby('success')[['friction']].value_counts(normalize=False)"
   ]
  },
  {
   "cell_type": "code",
   "execution_count": 38,
   "metadata": {},
   "outputs": [
    {
     "data": {
      "text/plain": [
       "success\n",
       "2    89\n",
       "3    59\n",
       "1    52\n",
       "Name: count, dtype: int64"
      ]
     },
     "execution_count": 38,
     "metadata": {},
     "output_type": "execute_result"
    }
   ],
   "source": [
    "df['success'].value_counts()"
   ]
  },
  {
   "cell_type": "code",
   "execution_count": 39,
   "metadata": {},
   "outputs": [
    {
     "data": {
      "text/plain": [
       "success  friction\n",
       "1        True        0.576923\n",
       "         False       0.423077\n",
       "2        True        0.550562\n",
       "         False       0.449438\n",
       "3        True        0.508475\n",
       "         False       0.491525\n",
       "Name: proportion, dtype: float64"
      ]
     },
     "execution_count": 39,
     "metadata": {},
     "output_type": "execute_result"
    }
   ],
   "source": [
    "df.groupby('success')[['friction']].value_counts(normalize=True)"
   ]
  },
  {
   "cell_type": "code",
   "execution_count": 40,
   "metadata": {},
   "outputs": [],
   "source": [
    "df['Ending']  = df['Ending'].str.lower()"
   ]
  },
  {
   "cell_type": "code",
   "execution_count": 41,
   "metadata": {},
   "outputs": [
    {
     "data": {
      "text/plain": [
       "Ending\n",
       "conversation had a natural end                                  0.550\n",
       "conversation ended abruptly                                     0.315\n",
       "someone ran out of time                                         0.095\n",
       "other                                                           0.025\n",
       "conversation ended abruptly, conversation had a natural end     0.005\n",
       "conversation had a natural end                                  0.005\n",
       "conversation had a natural end , conversation ended abruptly    0.005\n",
       "Name: proportion, dtype: float64"
      ]
     },
     "execution_count": 41,
     "metadata": {},
     "output_type": "execute_result"
    }
   ],
   "source": [
    "df['Ending'].value_counts(normalize=True)"
   ]
  },
  {
   "cell_type": "code",
   "execution_count": 42,
   "metadata": {},
   "outputs": [
    {
     "data": {
      "text/plain": [
       "success  Ending                                                      \n",
       "1        conversation ended abruptly                                     0.557692\n",
       "         conversation had a natural end                                  0.250000\n",
       "         someone ran out of time                                         0.115385\n",
       "         other                                                           0.057692\n",
       "         conversation had a natural end                                  0.019231\n",
       "2        conversation had a natural end                                  0.494382\n",
       "         conversation ended abruptly                                     0.359551\n",
       "         someone ran out of time                                         0.123596\n",
       "         conversation ended abruptly, conversation had a natural end     0.011236\n",
       "         other                                                           0.011236\n",
       "3        conversation had a natural end                                  0.898305\n",
       "         conversation ended abruptly                                     0.033898\n",
       "         someone ran out of time                                         0.033898\n",
       "         conversation had a natural end , conversation ended abruptly    0.016949\n",
       "         other                                                           0.016949\n",
       "Name: proportion, dtype: float64"
      ]
     },
     "execution_count": 42,
     "metadata": {},
     "output_type": "execute_result"
    }
   ],
   "source": [
    "df.groupby('success')[['Ending']].value_counts(normalize=True)"
   ]
  },
  {
   "cell_type": "code",
   "execution_count": 43,
   "metadata": {},
   "outputs": [
    {
     "data": {
      "text/html": [
       "<div>\n",
       "<style scoped>\n",
       "    .dataframe tbody tr th:only-of-type {\n",
       "        vertical-align: middle;\n",
       "    }\n",
       "\n",
       "    .dataframe tbody tr th {\n",
       "        vertical-align: top;\n",
       "    }\n",
       "\n",
       "    .dataframe thead th {\n",
       "        text-align: right;\n",
       "    }\n",
       "</style>\n",
       "<table border=\"1\" class=\"dataframe\">\n",
       "  <thead>\n",
       "    <tr style=\"text-align: right;\">\n",
       "      <th></th>\n",
       "      <th>success</th>\n",
       "      <th>conv_length</th>\n",
       "    </tr>\n",
       "    <tr>\n",
       "      <th>friction</th>\n",
       "      <th></th>\n",
       "      <th></th>\n",
       "    </tr>\n",
       "  </thead>\n",
       "  <tbody>\n",
       "    <tr>\n",
       "      <th>False</th>\n",
       "      <td>2.076923</td>\n",
       "      <td>28.978022</td>\n",
       "    </tr>\n",
       "    <tr>\n",
       "      <th>True</th>\n",
       "      <td>2.000000</td>\n",
       "      <td>48.743119</td>\n",
       "    </tr>\n",
       "  </tbody>\n",
       "</table>\n",
       "</div>"
      ],
      "text/plain": [
       "           success  conv_length\n",
       "friction                       \n",
       "False     2.076923    28.978022\n",
       "True      2.000000    48.743119"
      ]
     },
     "execution_count": 43,
     "metadata": {},
     "output_type": "execute_result"
    }
   ],
   "source": [
    "# find the distribution of success over friction and conv_length\n",
    "df.groupby('friction').agg({'success': 'mean', 'conv_length': 'mean'})"
   ]
  },
  {
   "cell_type": "code",
   "execution_count": null,
   "metadata": {},
   "outputs": [],
   "source": []
  },
  {
   "cell_type": "code",
   "execution_count": 30,
   "metadata": {},
   "outputs": [
    {
     "data": {
      "text/plain": [
       "(57.57575757575758, 0.7586206896551724)"
      ]
     },
     "execution_count": 30,
     "metadata": {},
     "output_type": "execute_result"
    }
   ],
   "source": [
    "(19 / 33 ) * 100, (66 / (48 + 39))"
   ]
  },
  {
   "cell_type": "code",
   "execution_count": 26,
   "metadata": {},
   "outputs": [
    {
     "data": {
      "text/html": [
       "<div>\n",
       "<style scoped>\n",
       "    .dataframe tbody tr th:only-of-type {\n",
       "        vertical-align: middle;\n",
       "    }\n",
       "\n",
       "    .dataframe tbody tr th {\n",
       "        vertical-align: top;\n",
       "    }\n",
       "\n",
       "    .dataframe thead th {\n",
       "        text-align: right;\n",
       "    }\n",
       "</style>\n",
       "<table border=\"1\" class=\"dataframe\">\n",
       "  <thead>\n",
       "    <tr style=\"text-align: right;\">\n",
       "      <th></th>\n",
       "      <th>conv_length</th>\n",
       "    </tr>\n",
       "    <tr>\n",
       "      <th>success</th>\n",
       "      <th></th>\n",
       "    </tr>\n",
       "  </thead>\n",
       "  <tbody>\n",
       "    <tr>\n",
       "      <th>1</th>\n",
       "      <td>34.000000</td>\n",
       "    </tr>\n",
       "    <tr>\n",
       "      <th>2</th>\n",
       "      <td>45.145833</td>\n",
       "    </tr>\n",
       "    <tr>\n",
       "      <th>3</th>\n",
       "      <td>41.666667</td>\n",
       "    </tr>\n",
       "  </tbody>\n",
       "</table>\n",
       "</div>"
      ],
      "text/plain": [
       "         conv_length\n",
       "success             \n",
       "1          34.000000\n",
       "2          45.145833\n",
       "3          41.666667"
      ]
     },
     "execution_count": 26,
     "metadata": {},
     "output_type": "execute_result"
    }
   ],
   "source": [
    "df.groupby('success').agg({'conv_length': 'mean'})"
   ]
  },
  {
   "cell_type": "code",
   "execution_count": 54,
   "metadata": {},
   "outputs": [
    {
     "data": {
      "text/html": [
       "<div>\n",
       "<style scoped>\n",
       "    .dataframe tbody tr th:only-of-type {\n",
       "        vertical-align: middle;\n",
       "    }\n",
       "\n",
       "    .dataframe tbody tr th {\n",
       "        vertical-align: top;\n",
       "    }\n",
       "\n",
       "    .dataframe thead tr th {\n",
       "        text-align: left;\n",
       "    }\n",
       "\n",
       "    .dataframe thead tr:last-of-type th {\n",
       "        text-align: right;\n",
       "    }\n",
       "</style>\n",
       "<table border=\"1\" class=\"dataframe\">\n",
       "  <thead>\n",
       "    <tr>\n",
       "      <th></th>\n",
       "      <th colspan=\"3\" halign=\"left\">conv_length</th>\n",
       "    </tr>\n",
       "    <tr>\n",
       "      <th></th>\n",
       "      <th>mean</th>\n",
       "      <th>std</th>\n",
       "      <th>median</th>\n",
       "    </tr>\n",
       "    <tr>\n",
       "      <th>friction</th>\n",
       "      <th></th>\n",
       "      <th></th>\n",
       "      <th></th>\n",
       "    </tr>\n",
       "  </thead>\n",
       "  <tbody>\n",
       "    <tr>\n",
       "      <th>False</th>\n",
       "      <td>25.397436</td>\n",
       "      <td>21.207901</td>\n",
       "      <td>16.5</td>\n",
       "    </tr>\n",
       "    <tr>\n",
       "      <th>True</th>\n",
       "      <td>48.926230</td>\n",
       "      <td>26.058157</td>\n",
       "      <td>54.0</td>\n",
       "    </tr>\n",
       "  </tbody>\n",
       "</table>\n",
       "</div>"
      ],
      "text/plain": [
       "         conv_length                  \n",
       "                mean        std median\n",
       "friction                              \n",
       "False      25.397436  21.207901   16.5\n",
       "True       48.926230  26.058157   54.0"
      ]
     },
     "execution_count": 54,
     "metadata": {},
     "output_type": "execute_result"
    }
   ],
   "source": [
    "df.groupby('friction').agg({'conv_length': ['mean', 'std', 'median']})\n"
   ]
  },
  {
   "cell_type": "code",
   "execution_count": 39,
   "metadata": {},
   "outputs": [
    {
     "data": {
      "text/plain": [
       "(40.56666666666667, 27.650195900451287, 33.0)"
      ]
     },
     "execution_count": 39,
     "metadata": {},
     "output_type": "execute_result"
    }
   ],
   "source": [
    "df.conv_length.mean(), df.conv_length.std(), df.conv_length.median()"
   ]
  },
  {
   "cell_type": "code",
   "execution_count": 42,
   "metadata": {},
   "outputs": [
    {
     "data": {
      "image/png": "[encoded data removed]",
      "text/plain": [
       "<Figure size 1000x600 with 1 Axes>"
      ]
     },
     "metadata": {},
     "output_type": "display_data"
    }
   ],
   "source": [
    "import matplotlib.pyplot as plt\n",
    "\n",
    "# Calculate the likelihood of friction being True for each value of conv_length\n",
    "friction_likelihood = df.groupby('conv_length')['friction'].mean()\n",
    "\n",
    "# Plot the likelihood\n",
    "plt.figure(figsize=(10, 6))\n",
    "friction_likelihood.plot(kind='bar')\n",
    "plt.xlabel('Conversation Length')\n",
    "plt.ylabel('Likelihood of Friction (True)')\n",
    "plt.title('Likelihood of Friction (True) for Each Conversation Length')\n",
    "plt.show()"
   ]
  },
  {
   "cell_type": "code",
   "execution_count": null,
   "metadata": {},
   "outputs": [],
   "source": []
  }
 ],
 "metadata": {
  "kernelspec": {
   "display_name": "conv-cg",
   "language": "python",
   "name": "python3"
  },
  "language_info": {
   "codemirror_mode": {
    "name": "ipython",
    "version": 3
   },
   "file_extension": ".py",
   "mimetype": "text/x-python",
   "name": "python",
   "nbconvert_exporter": "python",
   "pygments_lexer": "ipython3",
   "version": "3.11.7"
  }
 },
 "nbformat": 4,
 "nbformat_minor": 2
}
